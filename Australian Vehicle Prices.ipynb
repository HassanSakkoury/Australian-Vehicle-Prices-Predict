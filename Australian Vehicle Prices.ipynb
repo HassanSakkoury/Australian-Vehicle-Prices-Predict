{
 "cells": [
  {
   "cell_type": "markdown",
   "id": "a24e0f73",
   "metadata": {},
   "source": [
    "Load Libraries"
   ]
  },
  {
   "cell_type": "code",
   "execution_count": 1,
   "id": "6929a87b",
   "metadata": {},
   "outputs": [],
   "source": [
    "import pandas as pd \n",
    "import numpy as np\n",
    "import matplotlib.pyplot as plt\n",
    "import seaborn as sns\n",
    "from sklearn.metrics import r2_score, mean_squared_error, mean_absolute_error\n",
    "from sklearn.linear_model import LinearRegression, Lasso, Ridge\n",
    "from sklearn.model_selection import train_test_split"
   ]
  },
  {
   "cell_type": "markdown",
   "id": "8e94b86f",
   "metadata": {},
   "source": [
    "Explore data"
   ]
  },
  {
   "cell_type": "code",
   "execution_count": 75,
   "id": "97cae069",
   "metadata": {
    "scrolled": false
   },
   "outputs": [
    {
     "data": {
      "text/html": [
       "<div>\n",
       "<style scoped>\n",
       "    .dataframe tbody tr th:only-of-type {\n",
       "        vertical-align: middle;\n",
       "    }\n",
       "\n",
       "    .dataframe tbody tr th {\n",
       "        vertical-align: top;\n",
       "    }\n",
       "\n",
       "    .dataframe thead th {\n",
       "        text-align: right;\n",
       "    }\n",
       "</style>\n",
       "<table border=\"1\" class=\"dataframe\">\n",
       "  <thead>\n",
       "    <tr style=\"text-align: right;\">\n",
       "      <th></th>\n",
       "      <th>Brand</th>\n",
       "      <th>Year</th>\n",
       "      <th>Model</th>\n",
       "      <th>Car/Suv</th>\n",
       "      <th>Title</th>\n",
       "      <th>UsedOrNew</th>\n",
       "      <th>Transmission</th>\n",
       "      <th>Engine</th>\n",
       "      <th>DriveType</th>\n",
       "      <th>FuelType</th>\n",
       "      <th>FuelConsumption</th>\n",
       "      <th>Kilometres</th>\n",
       "      <th>ColourExtInt</th>\n",
       "      <th>Location</th>\n",
       "      <th>CylindersinEngine</th>\n",
       "      <th>BodyType</th>\n",
       "      <th>Doors</th>\n",
       "      <th>Seats</th>\n",
       "      <th>Price</th>\n",
       "    </tr>\n",
       "  </thead>\n",
       "  <tbody>\n",
       "    <tr>\n",
       "      <th>0</th>\n",
       "      <td>Ssangyong</td>\n",
       "      <td>2022.0</td>\n",
       "      <td>Rexton</td>\n",
       "      <td>Sutherland Isuzu Ute</td>\n",
       "      <td>2022 Ssangyong Rexton Ultimate (awd)</td>\n",
       "      <td>DEMO</td>\n",
       "      <td>Automatic</td>\n",
       "      <td>4 cyl, 2.2 L</td>\n",
       "      <td>AWD</td>\n",
       "      <td>Diesel</td>\n",
       "      <td>8.7 L / 100 km</td>\n",
       "      <td>5595</td>\n",
       "      <td>White / Black</td>\n",
       "      <td>Caringbah, NSW</td>\n",
       "      <td>4 cyl</td>\n",
       "      <td>SUV</td>\n",
       "      <td>4 Doors</td>\n",
       "      <td>7 Seats</td>\n",
       "      <td>51990</td>\n",
       "    </tr>\n",
       "    <tr>\n",
       "      <th>1</th>\n",
       "      <td>MG</td>\n",
       "      <td>2022.0</td>\n",
       "      <td>MG3</td>\n",
       "      <td>Hatchback</td>\n",
       "      <td>2022 MG MG3 Auto Excite (with Navigation)</td>\n",
       "      <td>USED</td>\n",
       "      <td>Automatic</td>\n",
       "      <td>4 cyl, 1.5 L</td>\n",
       "      <td>Front</td>\n",
       "      <td>Premium</td>\n",
       "      <td>6.7 L / 100 km</td>\n",
       "      <td>16</td>\n",
       "      <td>Black / Black</td>\n",
       "      <td>Brookvale, NSW</td>\n",
       "      <td>4 cyl</td>\n",
       "      <td>Hatchback</td>\n",
       "      <td>5 Doors</td>\n",
       "      <td>5 Seats</td>\n",
       "      <td>19990</td>\n",
       "    </tr>\n",
       "    <tr>\n",
       "      <th>2</th>\n",
       "      <td>BMW</td>\n",
       "      <td>2022.0</td>\n",
       "      <td>430I</td>\n",
       "      <td>Coupe</td>\n",
       "      <td>2022 BMW 430I M Sport</td>\n",
       "      <td>USED</td>\n",
       "      <td>Automatic</td>\n",
       "      <td>4 cyl, 2 L</td>\n",
       "      <td>Rear</td>\n",
       "      <td>Premium</td>\n",
       "      <td>6.6 L / 100 km</td>\n",
       "      <td>8472</td>\n",
       "      <td>Grey / White</td>\n",
       "      <td>Sylvania, NSW</td>\n",
       "      <td>4 cyl</td>\n",
       "      <td>Coupe</td>\n",
       "      <td>2 Doors</td>\n",
       "      <td>4 Seats</td>\n",
       "      <td>108988</td>\n",
       "    </tr>\n",
       "    <tr>\n",
       "      <th>3</th>\n",
       "      <td>Mercedes-Benz</td>\n",
       "      <td>2011.0</td>\n",
       "      <td>E500</td>\n",
       "      <td>Coupe</td>\n",
       "      <td>2011 Mercedes-Benz E500 Elegance</td>\n",
       "      <td>USED</td>\n",
       "      <td>Automatic</td>\n",
       "      <td>8 cyl, 5.5 L</td>\n",
       "      <td>Rear</td>\n",
       "      <td>Premium</td>\n",
       "      <td>11 L / 100 km</td>\n",
       "      <td>136517</td>\n",
       "      <td>White / Brown</td>\n",
       "      <td>Mount Druitt, NSW</td>\n",
       "      <td>8 cyl</td>\n",
       "      <td>Coupe</td>\n",
       "      <td>2 Doors</td>\n",
       "      <td>4 Seats</td>\n",
       "      <td>32990</td>\n",
       "    </tr>\n",
       "    <tr>\n",
       "      <th>4</th>\n",
       "      <td>Renault</td>\n",
       "      <td>2022.0</td>\n",
       "      <td>Arkana</td>\n",
       "      <td>SUV</td>\n",
       "      <td>2022 Renault Arkana Intens</td>\n",
       "      <td>USED</td>\n",
       "      <td>Automatic</td>\n",
       "      <td>4 cyl, 1.3 L</td>\n",
       "      <td>Front</td>\n",
       "      <td>Unleaded</td>\n",
       "      <td>6 L / 100 km</td>\n",
       "      <td>1035</td>\n",
       "      <td>Grey / Black</td>\n",
       "      <td>Castle Hill, NSW</td>\n",
       "      <td>4 cyl</td>\n",
       "      <td>SUV</td>\n",
       "      <td>4 Doors</td>\n",
       "      <td>5 Seats</td>\n",
       "      <td>34990</td>\n",
       "    </tr>\n",
       "  </tbody>\n",
       "</table>\n",
       "</div>"
      ],
      "text/plain": [
       "           Brand    Year   Model               Car/Suv  \\\n",
       "0      Ssangyong  2022.0  Rexton  Sutherland Isuzu Ute   \n",
       "1             MG  2022.0     MG3             Hatchback   \n",
       "2            BMW  2022.0    430I                 Coupe   \n",
       "3  Mercedes-Benz  2011.0    E500                 Coupe   \n",
       "4        Renault  2022.0  Arkana                   SUV   \n",
       "\n",
       "                                       Title UsedOrNew Transmission  \\\n",
       "0       2022 Ssangyong Rexton Ultimate (awd)      DEMO    Automatic   \n",
       "1  2022 MG MG3 Auto Excite (with Navigation)      USED    Automatic   \n",
       "2                      2022 BMW 430I M Sport      USED    Automatic   \n",
       "3           2011 Mercedes-Benz E500 Elegance      USED    Automatic   \n",
       "4                 2022 Renault Arkana Intens      USED    Automatic   \n",
       "\n",
       "         Engine DriveType  FuelType FuelConsumption Kilometres   ColourExtInt  \\\n",
       "0  4 cyl, 2.2 L       AWD    Diesel  8.7 L / 100 km       5595  White / Black   \n",
       "1  4 cyl, 1.5 L     Front   Premium  6.7 L / 100 km         16  Black / Black   \n",
       "2    4 cyl, 2 L      Rear   Premium  6.6 L / 100 km       8472   Grey / White   \n",
       "3  8 cyl, 5.5 L      Rear   Premium   11 L / 100 km     136517  White / Brown   \n",
       "4  4 cyl, 1.3 L     Front  Unleaded    6 L / 100 km       1035   Grey / Black   \n",
       "\n",
       "            Location CylindersinEngine   BodyType     Doors     Seats   Price  \n",
       "0     Caringbah, NSW             4 cyl        SUV   4 Doors   7 Seats   51990  \n",
       "1     Brookvale, NSW             4 cyl  Hatchback   5 Doors   5 Seats   19990  \n",
       "2      Sylvania, NSW             4 cyl      Coupe   2 Doors   4 Seats  108988  \n",
       "3  Mount Druitt, NSW             8 cyl      Coupe   2 Doors   4 Seats   32990  \n",
       "4   Castle Hill, NSW             4 cyl        SUV   4 Doors   5 Seats   34990  "
      ]
     },
     "execution_count": 75,
     "metadata": {},
     "output_type": "execute_result"
    }
   ],
   "source": [
    "df= pd.read_csv('Australian Vehicle Prices.csv')\n",
    "df.head()"
   ]
  },
  {
   "cell_type": "code",
   "execution_count": 3,
   "id": "06296868",
   "metadata": {
    "scrolled": false
   },
   "outputs": [
    {
     "data": {
      "text/plain": [
       "(16734, 19)"
      ]
     },
     "execution_count": 3,
     "metadata": {},
     "output_type": "execute_result"
    }
   ],
   "source": [
    "df.shape"
   ]
  },
  {
   "cell_type": "markdown",
   "id": "8bc1593a",
   "metadata": {},
   "source": [
    "Check nulls and clean data"
   ]
  },
  {
   "cell_type": "code",
   "execution_count": 4,
   "id": "674c81bd",
   "metadata": {},
   "outputs": [
    {
     "data": {
      "text/plain": [
       "Brand                   1\n",
       "Year                    1\n",
       "Model                   1\n",
       "Car/Suv                28\n",
       "Title                   1\n",
       "UsedOrNew               1\n",
       "Transmission            1\n",
       "Engine                  1\n",
       "DriveType               1\n",
       "FuelType                1\n",
       "FuelConsumption         1\n",
       "Kilometres              1\n",
       "ColourExtInt            1\n",
       "Location              450\n",
       "CylindersinEngine       1\n",
       "BodyType              282\n",
       "Doors                1604\n",
       "Seats                1705\n",
       "Price                   3\n",
       "dtype: int64"
      ]
     },
     "execution_count": 4,
     "metadata": {},
     "output_type": "execute_result"
    }
   ],
   "source": [
    "df.isnull().sum()"
   ]
  },
  {
   "cell_type": "code",
   "execution_count": 5,
   "id": "32ff8e41",
   "metadata": {},
   "outputs": [
    {
     "data": {
      "text/plain": [
       "array(['DEMO', 'USED', 'NEW', nan], dtype=object)"
      ]
     },
     "execution_count": 5,
     "metadata": {},
     "output_type": "execute_result"
    }
   ],
   "source": [
    "df.UsedOrNew.unique()"
   ]
  },
  {
   "cell_type": "code",
   "execution_count": 6,
   "id": "2041cdab",
   "metadata": {},
   "outputs": [
    {
     "data": {
      "text/plain": [
       "array([' 4 Doors', ' 5 Doors', ' 2 Doors', nan, ' 3 Doors', ' 7 Seats',\n",
       "       ' 5 Seats', ' 4 Seats', ' 8 Seats', ' 2 Seats', ' 9 Seats',\n",
       "       ' 6 Seats', ' 3 Seats', ' 12 Seats'], dtype=object)"
      ]
     },
     "execution_count": 6,
     "metadata": {},
     "output_type": "execute_result"
    }
   ],
   "source": [
    "df.Doors.unique()"
   ]
  },
  {
   "cell_type": "code",
   "execution_count": 7,
   "id": "4cfcae16",
   "metadata": {},
   "outputs": [],
   "source": [
    "df['Doors'] = df.Doors.str.replace(' Doors', '')"
   ]
  },
  {
   "cell_type": "code",
   "execution_count": 8,
   "id": "3bd6ee93",
   "metadata": {},
   "outputs": [],
   "source": [
    "df['Doors'] = df.Doors.str.replace(' Seats', '')"
   ]
  },
  {
   "cell_type": "code",
   "execution_count": 9,
   "id": "61e042d1",
   "metadata": {},
   "outputs": [],
   "source": [
    "df['Doors'] = df['Doors'].str.strip()"
   ]
  },
  {
   "cell_type": "code",
   "execution_count": 10,
   "id": "9f56b629",
   "metadata": {},
   "outputs": [
    {
     "data": {
      "text/plain": [
       "array(['4', '5', '2', nan, '3', '7', '8', '9', '6', '12'], dtype=object)"
      ]
     },
     "execution_count": 10,
     "metadata": {},
     "output_type": "execute_result"
    }
   ],
   "source": [
    "df.Doors.unique()"
   ]
  },
  {
   "cell_type": "code",
   "execution_count": 11,
   "id": "a416441e",
   "metadata": {},
   "outputs": [],
   "source": [
    "df['Doors'] = df['Doors'].fillna(df.Doors.median())"
   ]
  },
  {
   "cell_type": "code",
   "execution_count": 12,
   "id": "d9db654f",
   "metadata": {
    "scrolled": true
   },
   "outputs": [
    {
     "data": {
      "text/plain": [
       "Brand                   1\n",
       "Year                    1\n",
       "Model                   1\n",
       "Car/Suv                28\n",
       "Title                   1\n",
       "UsedOrNew               1\n",
       "Transmission            1\n",
       "Engine                  1\n",
       "DriveType               1\n",
       "FuelType                1\n",
       "FuelConsumption         1\n",
       "Kilometres              1\n",
       "ColourExtInt            1\n",
       "Location              450\n",
       "CylindersinEngine       1\n",
       "BodyType              282\n",
       "Doors                   0\n",
       "Seats                1705\n",
       "Price                   3\n",
       "dtype: int64"
      ]
     },
     "execution_count": 12,
     "metadata": {},
     "output_type": "execute_result"
    }
   ],
   "source": [
    "df.isnull().sum()"
   ]
  },
  {
   "cell_type": "code",
   "execution_count": 13,
   "id": "f034ace3",
   "metadata": {},
   "outputs": [
    {
     "data": {
      "text/plain": [
       "array([' 7 Seats', ' 5 Seats', ' 4 Seats', nan, ' 2 Seats', ' 3 Seats',\n",
       "       ' 14 Seats', ' 8 Seats', ' 6 Seats', ' 9 Seats', ' 11 Seats',\n",
       "       ' 12 Seats', ' 22 Seats', ' 15 Seats'], dtype=object)"
      ]
     },
     "execution_count": 13,
     "metadata": {},
     "output_type": "execute_result"
    }
   ],
   "source": [
    "df.Seats.unique()"
   ]
  },
  {
   "cell_type": "code",
   "execution_count": 14,
   "id": "fdb9fd80",
   "metadata": {},
   "outputs": [],
   "source": [
    "df['Seats'] = df.Seats.str.replace(' Seats', '')\n",
    "df['Seats'] = df['Seats'].str.strip()"
   ]
  },
  {
   "cell_type": "code",
   "execution_count": 15,
   "id": "12e29f2e",
   "metadata": {},
   "outputs": [],
   "source": [
    "df['Seats'] = df['Seats'].fillna(df.Doors.median())"
   ]
  },
  {
   "cell_type": "code",
   "execution_count": 16,
   "id": "4ea0dbbb",
   "metadata": {},
   "outputs": [
    {
     "data": {
      "text/plain": [
       "array(['7', '5', '4', 4.0, '2', '3', '14', '8', '6', '9', '11', '12',\n",
       "       '22', '15'], dtype=object)"
      ]
     },
     "execution_count": 16,
     "metadata": {},
     "output_type": "execute_result"
    }
   ],
   "source": [
    "df.Seats.unique()"
   ]
  },
  {
   "cell_type": "code",
   "execution_count": 17,
   "id": "1729e779",
   "metadata": {},
   "outputs": [
    {
     "data": {
      "text/plain": [
       "1"
      ]
     },
     "execution_count": 17,
     "metadata": {},
     "output_type": "execute_result"
    }
   ],
   "source": [
    "df.UsedOrNew.isnull().sum()"
   ]
  },
  {
   "cell_type": "code",
   "execution_count": 18,
   "id": "8050479a",
   "metadata": {},
   "outputs": [
    {
     "data": {
      "text/plain": [
       "Brand                  1\n",
       "Year                   1\n",
       "Model                  1\n",
       "Car/Suv               28\n",
       "Title                  1\n",
       "UsedOrNew              1\n",
       "Transmission           1\n",
       "Engine                 1\n",
       "DriveType              1\n",
       "FuelType               1\n",
       "FuelConsumption        1\n",
       "Kilometres             1\n",
       "ColourExtInt           1\n",
       "Location             450\n",
       "CylindersinEngine      1\n",
       "BodyType             282\n",
       "Doors                  0\n",
       "Seats                  0\n",
       "Price                  3\n",
       "dtype: int64"
      ]
     },
     "execution_count": 18,
     "metadata": {},
     "output_type": "execute_result"
    }
   ],
   "source": [
    "df.isnull().sum()"
   ]
  },
  {
   "cell_type": "code",
   "execution_count": 19,
   "id": "3a56686b",
   "metadata": {},
   "outputs": [],
   "source": [
    "df = df.dropna()"
   ]
  },
  {
   "cell_type": "code",
   "execution_count": 20,
   "id": "03f7ccf3",
   "metadata": {},
   "outputs": [
    {
     "data": {
      "text/plain": [
       "Brand                0\n",
       "Year                 0\n",
       "Model                0\n",
       "Car/Suv              0\n",
       "Title                0\n",
       "UsedOrNew            0\n",
       "Transmission         0\n",
       "Engine               0\n",
       "DriveType            0\n",
       "FuelType             0\n",
       "FuelConsumption      0\n",
       "Kilometres           0\n",
       "ColourExtInt         0\n",
       "Location             0\n",
       "CylindersinEngine    0\n",
       "BodyType             0\n",
       "Doors                0\n",
       "Seats                0\n",
       "Price                0\n",
       "dtype: int64"
      ]
     },
     "execution_count": 20,
     "metadata": {},
     "output_type": "execute_result"
    }
   ],
   "source": [
    "df.isnull().sum()"
   ]
  },
  {
   "cell_type": "code",
   "execution_count": 21,
   "id": "4732ccb0",
   "metadata": {
    "scrolled": false
   },
   "outputs": [
    {
     "data": {
      "text/plain": [
       "Brand                 object\n",
       "Year                 float64\n",
       "Model                 object\n",
       "Car/Suv               object\n",
       "Title                 object\n",
       "UsedOrNew             object\n",
       "Transmission          object\n",
       "Engine                object\n",
       "DriveType             object\n",
       "FuelType              object\n",
       "FuelConsumption       object\n",
       "Kilometres            object\n",
       "ColourExtInt          object\n",
       "Location              object\n",
       "CylindersinEngine     object\n",
       "BodyType              object\n",
       "Doors                 object\n",
       "Seats                 object\n",
       "Price                 object\n",
       "dtype: object"
      ]
     },
     "execution_count": 21,
     "metadata": {},
     "output_type": "execute_result"
    }
   ],
   "source": [
    "df.dtypes"
   ]
  },
  {
   "cell_type": "code",
   "execution_count": 22,
   "id": "1545334b",
   "metadata": {},
   "outputs": [
    {
     "data": {
      "text/plain": [
       "0"
      ]
     },
     "execution_count": 22,
     "metadata": {},
     "output_type": "execute_result"
    }
   ],
   "source": [
    "df.CylindersinEngine.isnull().sum()"
   ]
  },
  {
   "cell_type": "code",
   "execution_count": 23,
   "id": "c14afd97",
   "metadata": {},
   "outputs": [],
   "source": [
    "df['CylindersinEngine'] = df.CylindersinEngine.str.replace(' cyl', '')\n",
    "df['CylindersinEngine'] = df['CylindersinEngine'].str.strip()\n",
    "df['CylindersinEngine'] = df.CylindersinEngine.str.replace(' L', '')"
   ]
  },
  {
   "cell_type": "code",
   "execution_count": 24,
   "id": "a27e17b8",
   "metadata": {},
   "outputs": [
    {
     "data": {
      "text/plain": [
       "Index(['Brand', 'Year', 'Model', 'Car/Suv', 'Title', 'UsedOrNew',\n",
       "       'Transmission', 'Engine', 'DriveType', 'FuelType', 'FuelConsumption',\n",
       "       'Kilometres', 'ColourExtInt', 'Location', 'CylindersinEngine',\n",
       "       'BodyType', 'Doors', 'Seats', 'Price'],\n",
       "      dtype='object')"
      ]
     },
     "execution_count": 24,
     "metadata": {},
     "output_type": "execute_result"
    }
   ],
   "source": [
    "df.columns"
   ]
  },
  {
   "cell_type": "code",
   "execution_count": 25,
   "id": "c920b935",
   "metadata": {},
   "outputs": [
    {
     "data": {
      "text/plain": [
       "Brand                 object\n",
       "Year                 float64\n",
       "Model                 object\n",
       "Car/Suv               object\n",
       "Title                 object\n",
       "UsedOrNew             object\n",
       "Transmission          object\n",
       "Engine                object\n",
       "DriveType             object\n",
       "FuelType              object\n",
       "FuelConsumption       object\n",
       "Kilometres            object\n",
       "ColourExtInt          object\n",
       "Location              object\n",
       "CylindersinEngine     object\n",
       "BodyType              object\n",
       "Doors                 object\n",
       "Seats                 object\n",
       "Price                 object\n",
       "dtype: object"
      ]
     },
     "execution_count": 25,
     "metadata": {},
     "output_type": "execute_result"
    }
   ],
   "source": [
    "df.dtypes"
   ]
  },
  {
   "cell_type": "markdown",
   "id": "ef7b6240",
   "metadata": {},
   "source": [
    "col to change type -- 'Doors', 'Seats', 'Price', 'CylindersinEngine', 'Kilometres'"
   ]
  },
  {
   "cell_type": "code",
   "execution_count": 26,
   "id": "c46fe37b",
   "metadata": {},
   "outputs": [],
   "source": [
    "df.Doors.unique()\n",
    "df['Doors'] = df.Doors.astype(int)"
   ]
  },
  {
   "cell_type": "code",
   "execution_count": 27,
   "id": "db3f8327",
   "metadata": {},
   "outputs": [],
   "source": [
    "df.Seats.unique()\n",
    "df['Seats'] = df.Seats.astype(int)"
   ]
  },
  {
   "cell_type": "code",
   "execution_count": 28,
   "id": "86b7e1cf",
   "metadata": {},
   "outputs": [
    {
     "data": {
      "text/plain": [
       "array(['51990', '19990', '108988', ..., '21989', '36770', '35280'],\n",
       "      dtype=object)"
      ]
     },
     "execution_count": 28,
     "metadata": {},
     "output_type": "execute_result"
    }
   ],
   "source": [
    "df.Price.unique()"
   ]
  },
  {
   "cell_type": "code",
   "execution_count": 29,
   "id": "f8801012",
   "metadata": {},
   "outputs": [],
   "source": [
    "drop_rows = df['Price']=='POA'\n",
    "df = df[~drop_rows]\n",
    "df['Price'] = df.Price.astype(int)"
   ]
  },
  {
   "cell_type": "code",
   "execution_count": 30,
   "id": "28265653",
   "metadata": {},
   "outputs": [
    {
     "data": {
      "text/plain": [
       "array(['4', '8', '-', '3', '6', '5', '12', '0', '2', '10'], dtype=object)"
      ]
     },
     "execution_count": 30,
     "metadata": {},
     "output_type": "execute_result"
    }
   ],
   "source": [
    "df.CylindersinEngine.unique()"
   ]
  },
  {
   "cell_type": "code",
   "execution_count": 31,
   "id": "b8ab7e75",
   "metadata": {},
   "outputs": [],
   "source": [
    "drop_rows = df['Price']=='POA'\n",
    "df = df[~drop_rows]"
   ]
  },
  {
   "cell_type": "code",
   "execution_count": 32,
   "id": "a6a94a0b",
   "metadata": {},
   "outputs": [
    {
     "data": {
      "text/plain": [
       "(15953, 19)"
      ]
     },
     "execution_count": 32,
     "metadata": {},
     "output_type": "execute_result"
    }
   ],
   "source": [
    "df.shape"
   ]
  },
  {
   "cell_type": "code",
   "execution_count": 33,
   "id": "daedcfc8",
   "metadata": {},
   "outputs": [
    {
     "data": {
      "text/plain": [
       "array(['4', '8', '-', '3', '6', '5', '12', '0', '2', '10'], dtype=object)"
      ]
     },
     "execution_count": 33,
     "metadata": {},
     "output_type": "execute_result"
    }
   ],
   "source": [
    "df.CylindersinEngine.unique()"
   ]
  },
  {
   "cell_type": "code",
   "execution_count": 34,
   "id": "700aeda3",
   "metadata": {},
   "outputs": [
    {
     "data": {
      "text/plain": [
       "array(['5595', '16', '8472', ..., '5165', '85525', '31852'], dtype=object)"
      ]
     },
     "execution_count": 34,
     "metadata": {},
     "output_type": "execute_result"
    }
   ],
   "source": [
    "df.Kilometres.unique()"
   ]
  },
  {
   "cell_type": "code",
   "execution_count": 35,
   "id": "df709f39",
   "metadata": {},
   "outputs": [
    {
     "data": {
      "text/plain": [
       "4     11182\n",
       "6      1991\n",
       "-      1379\n",
       "8       585\n",
       "5       399\n",
       "3       308\n",
       "0        91\n",
       "12       11\n",
       "2         4\n",
       "10        3\n",
       "Name: CylindersinEngine, dtype: int64"
      ]
     },
     "execution_count": 35,
     "metadata": {},
     "output_type": "execute_result"
    }
   ],
   "source": [
    "df.CylindersinEngine.value_counts()"
   ]
  },
  {
   "cell_type": "code",
   "execution_count": 36,
   "id": "a7fe45f4",
   "metadata": {},
   "outputs": [],
   "source": [
    "df['CylindersinEngine'] = df['CylindersinEngine'].str.replace('-','0')\n",
    "df['CylindersinEngine'] = df['CylindersinEngine'].astype(int)"
   ]
  },
  {
   "cell_type": "code",
   "execution_count": 37,
   "id": "c783a31e",
   "metadata": {},
   "outputs": [
    {
     "data": {
      "text/plain": [
       "10       124\n",
       "-        115\n",
       "15        93\n",
       "20        83\n",
       "7         58\n",
       "        ... \n",
       "13017      1\n",
       "61781      1\n",
       "4220       1\n",
       "57409      1\n",
       "31852      1\n",
       "Name: Kilometres, Length: 14030, dtype: int64"
      ]
     },
     "execution_count": 37,
     "metadata": {},
     "output_type": "execute_result"
    }
   ],
   "source": [
    "df.Kilometres.value_counts()"
   ]
  },
  {
   "cell_type": "code",
   "execution_count": 38,
   "id": "3a5dc2cb",
   "metadata": {},
   "outputs": [],
   "source": [
    "df['Kilometres'] = df['Kilometres'].str.replace('-','0')\n",
    "df['Kilometres'] = df['Kilometres'].astype(int)"
   ]
  },
  {
   "cell_type": "code",
   "execution_count": 39,
   "id": "097af9a6",
   "metadata": {
    "scrolled": false
   },
   "outputs": [
    {
     "data": {
      "text/plain": [
       "Brand                 object\n",
       "Year                 float64\n",
       "Model                 object\n",
       "Car/Suv               object\n",
       "Title                 object\n",
       "UsedOrNew             object\n",
       "Transmission          object\n",
       "Engine                object\n",
       "DriveType             object\n",
       "FuelType              object\n",
       "FuelConsumption       object\n",
       "Kilometres             int32\n",
       "ColourExtInt          object\n",
       "Location              object\n",
       "CylindersinEngine      int32\n",
       "BodyType              object\n",
       "Doors                  int32\n",
       "Seats                  int32\n",
       "Price                  int32\n",
       "dtype: object"
      ]
     },
     "execution_count": 39,
     "metadata": {},
     "output_type": "execute_result"
    }
   ],
   "source": [
    "df.dtypes"
   ]
  },
  {
   "cell_type": "markdown",
   "id": "42543eff",
   "metadata": {},
   "source": [
    "### Visualization\n"
   ]
  },
  {
   "cell_type": "code",
   "execution_count": 40,
   "id": "078f4d1f",
   "metadata": {},
   "outputs": [
    {
     "data": {
      "text/html": [
       "<div>\n",
       "<style scoped>\n",
       "    .dataframe tbody tr th:only-of-type {\n",
       "        vertical-align: middle;\n",
       "    }\n",
       "\n",
       "    .dataframe tbody tr th {\n",
       "        vertical-align: top;\n",
       "    }\n",
       "\n",
       "    .dataframe thead th {\n",
       "        text-align: right;\n",
       "    }\n",
       "</style>\n",
       "<table border=\"1\" class=\"dataframe\">\n",
       "  <thead>\n",
       "    <tr style=\"text-align: right;\">\n",
       "      <th></th>\n",
       "      <th>Year</th>\n",
       "      <th>Kilometres</th>\n",
       "      <th>CylindersinEngine</th>\n",
       "      <th>Doors</th>\n",
       "      <th>Seats</th>\n",
       "      <th>Price</th>\n",
       "    </tr>\n",
       "  </thead>\n",
       "  <tbody>\n",
       "    <tr>\n",
       "      <th>Year</th>\n",
       "      <td>1.000000</td>\n",
       "      <td>-0.727665</td>\n",
       "      <td>-0.087030</td>\n",
       "      <td>0.101558</td>\n",
       "      <td>0.060472</td>\n",
       "      <td>0.354038</td>\n",
       "    </tr>\n",
       "    <tr>\n",
       "      <th>Kilometres</th>\n",
       "      <td>-0.727665</td>\n",
       "      <td>1.000000</td>\n",
       "      <td>0.104659</td>\n",
       "      <td>-0.118520</td>\n",
       "      <td>-0.002622</td>\n",
       "      <td>-0.397987</td>\n",
       "    </tr>\n",
       "    <tr>\n",
       "      <th>CylindersinEngine</th>\n",
       "      <td>-0.087030</td>\n",
       "      <td>0.104659</td>\n",
       "      <td>1.000000</td>\n",
       "      <td>-0.160570</td>\n",
       "      <td>0.237607</td>\n",
       "      <td>0.134578</td>\n",
       "    </tr>\n",
       "    <tr>\n",
       "      <th>Doors</th>\n",
       "      <td>0.101558</td>\n",
       "      <td>-0.118520</td>\n",
       "      <td>-0.160570</td>\n",
       "      <td>1.000000</td>\n",
       "      <td>0.319557</td>\n",
       "      <td>-0.109482</td>\n",
       "    </tr>\n",
       "    <tr>\n",
       "      <th>Seats</th>\n",
       "      <td>0.060472</td>\n",
       "      <td>-0.002622</td>\n",
       "      <td>0.237607</td>\n",
       "      <td>0.319557</td>\n",
       "      <td>1.000000</td>\n",
       "      <td>0.004619</td>\n",
       "    </tr>\n",
       "    <tr>\n",
       "      <th>Price</th>\n",
       "      <td>0.354038</td>\n",
       "      <td>-0.397987</td>\n",
       "      <td>0.134578</td>\n",
       "      <td>-0.109482</td>\n",
       "      <td>0.004619</td>\n",
       "      <td>1.000000</td>\n",
       "    </tr>\n",
       "  </tbody>\n",
       "</table>\n",
       "</div>"
      ],
      "text/plain": [
       "                       Year  Kilometres  CylindersinEngine     Doors  \\\n",
       "Year               1.000000   -0.727665          -0.087030  0.101558   \n",
       "Kilometres        -0.727665    1.000000           0.104659 -0.118520   \n",
       "CylindersinEngine -0.087030    0.104659           1.000000 -0.160570   \n",
       "Doors              0.101558   -0.118520          -0.160570  1.000000   \n",
       "Seats              0.060472   -0.002622           0.237607  0.319557   \n",
       "Price              0.354038   -0.397987           0.134578 -0.109482   \n",
       "\n",
       "                      Seats     Price  \n",
       "Year               0.060472  0.354038  \n",
       "Kilometres        -0.002622 -0.397987  \n",
       "CylindersinEngine  0.237607  0.134578  \n",
       "Doors              0.319557 -0.109482  \n",
       "Seats              1.000000  0.004619  \n",
       "Price              0.004619  1.000000  "
      ]
     },
     "execution_count": 40,
     "metadata": {},
     "output_type": "execute_result"
    }
   ],
   "source": [
    "numerical_columns = df.select_dtypes(include=['int32', 'float64']).corr()\n",
    "numerical_columns"
   ]
  },
  {
   "cell_type": "code",
   "execution_count": 41,
   "id": "afb96f88",
   "metadata": {},
   "outputs": [
    {
     "data": {
      "image/png": "[encoded data removed]",
      "text/plain": [
       "<Figure size 640x480 with 2 Axes>"
      ]
     },
     "metadata": {},
     "output_type": "display_data"
    },
    {
     "data": {
      "text/plain": [
       "<Figure size 400x500 with 0 Axes>"
      ]
     },
     "metadata": {},
     "output_type": "display_data"
    }
   ],
   "source": [
    "sns.heatmap(numerical_columns)\n",
    "plt.figure(figsize=(4,5))\n",
    "plt.show()"
   ]
  },
  {
   "cell_type": "code",
   "execution_count": 42,
   "id": "876d1a8b",
   "metadata": {
    "scrolled": true
   },
   "outputs": [
    {
     "data": {
      "text/plain": [
       "Index(['Brand', 'Year', 'Model', 'Car/Suv', 'Title', 'UsedOrNew',\n",
       "       'Transmission', 'Engine', 'DriveType', 'FuelType', 'FuelConsumption',\n",
       "       'Kilometres', 'ColourExtInt', 'Location', 'CylindersinEngine',\n",
       "       'BodyType', 'Doors', 'Seats', 'Price'],\n",
       "      dtype='object')"
      ]
     },
     "execution_count": 42,
     "metadata": {},
     "output_type": "execute_result"
    }
   ],
   "source": [
    "df.columns"
   ]
  },
  {
   "cell_type": "code",
   "execution_count": 43,
   "id": "982b8078",
   "metadata": {
    "scrolled": false
   },
   "outputs": [
    {
     "data": {
      "image/png": "[encoded data removed]",
      "text/plain": [
       "<Figure size 640x480 with 1 Axes>"
      ]
     },
     "metadata": {},
     "output_type": "display_data"
    }
   ],
   "source": [
    "sns.countplot(x=df['BodyType'])\n",
    "plt.xticks(rotation=90)\n",
    "plt.show()"
   ]
  },
  {
   "cell_type": "code",
   "execution_count": 44,
   "id": "6710452d",
   "metadata": {},
   "outputs": [
    {
     "name": "stdout",
     "output_type": "stream",
     "text": [
      "USED    14722\n",
      "NEW       730\n",
      "DEMO      501\n",
      "Name: UsedOrNew, dtype: int64\n"
     ]
    },
    {
     "data": {
      "text/plain": [
       "<Axes: >"
      ]
     },
     "execution_count": 44,
     "metadata": {},
     "output_type": "execute_result"
    },
    {
     "data": {
      "image/png": "[encoded data removed]",
      "text/plain": [
       "<Figure size 640x480 with 1 Axes>"
      ]
     },
     "metadata": {},
     "output_type": "display_data"
    }
   ],
   "source": [
    "print(df.UsedOrNew.value_counts(ascending=False))\n",
    "df.UsedOrNew.value_counts(ascending=False).plot(kind='bar')"
   ]
  },
  {
   "cell_type": "code",
   "execution_count": 45,
   "id": "1f7cff07",
   "metadata": {},
   "outputs": [
    {
     "data": {
      "text/plain": [
       "<Axes: xlabel='DriveType', ylabel='count'>"
      ]
     },
     "execution_count": 45,
     "metadata": {},
     "output_type": "execute_result"
    },
    {
     "data": {
      "image/png": "[encoded data removed]",
      "text/plain": [
       "<Figure size 640x480 with 1 Axes>"
      ]
     },
     "metadata": {},
     "output_type": "display_data"
    }
   ],
   "source": [
    "sns.countplot(x=df['DriveType'])"
   ]
  },
  {
   "cell_type": "code",
   "execution_count": 46,
   "id": "35d64ef3",
   "metadata": {},
   "outputs": [
    {
     "name": "stdout",
     "output_type": "stream",
     "text": [
      "Toyota           2647\n",
      "Hyundai          1201\n",
      "Mazda            1132\n",
      "Holden           1069\n",
      "Ford             1037\n",
      "Mitsubishi       1016\n",
      "Nissan           1003\n",
      "Volkswagen        862\n",
      "Kia               792\n",
      "Mercedes-Benz     582\n",
      "Subaru            546\n",
      "Audi              450\n",
      "BMW               440\n",
      "Honda             354\n",
      "Jeep              318\n",
      "Name: Brand, dtype: int64\n"
     ]
    },
    {
     "data": {
      "text/plain": [
       "<Axes: >"
      ]
     },
     "execution_count": 46,
     "metadata": {},
     "output_type": "execute_result"
    },
    {
     "data": {
      "image/png": "[encoded data removed]",
      "text/plain": [
       "<Figure size 1000x800 with 1 Axes>"
      ]
     },
     "metadata": {},
     "output_type": "display_data"
    }
   ],
   "source": [
    "Top_brands = df.Brand.value_counts(ascending=False).head(15)\n",
    "print(Top_brands)\n",
    "df.Brand.value_counts().head(15).plot(kind='bar',figsize=(10,8))"
   ]
  },
  {
   "cell_type": "code",
   "execution_count": 47,
   "id": "27d39e8d",
   "metadata": {},
   "outputs": [
    {
     "data": {
      "text/plain": [
       "Index(['Brand', 'Year', 'Model', 'Car/Suv', 'Title', 'UsedOrNew',\n",
       "       'Transmission', 'Engine', 'DriveType', 'FuelType', 'FuelConsumption',\n",
       "       'Kilometres', 'ColourExtInt', 'Location', 'CylindersinEngine',\n",
       "       'BodyType', 'Doors', 'Seats', 'Price'],\n",
       "      dtype='object')"
      ]
     },
     "execution_count": 47,
     "metadata": {},
     "output_type": "execute_result"
    }
   ],
   "source": [
    "df.columns"
   ]
  },
  {
   "cell_type": "code",
   "execution_count": 48,
   "id": "e30f21e6",
   "metadata": {
    "scrolled": false
   },
   "outputs": [
    {
     "data": {
      "text/plain": [
       "<Axes: xlabel='Transmission', ylabel='Price'>"
      ]
     },
     "execution_count": 48,
     "metadata": {},
     "output_type": "execute_result"
    },
    {
     "data": {
      "image/png": "[encoded data removed]",
      "text/plain": [
       "<Figure size 640x480 with 1 Axes>"
      ]
     },
     "metadata": {},
     "output_type": "display_data"
    }
   ],
   "source": [
    "sns.boxplot(df, x='Transmission', y='Price', labels={'Price': 'Car Price'})"
   ]
  },
  {
   "cell_type": "code",
   "execution_count": 49,
   "id": "438ee710",
   "metadata": {},
   "outputs": [
    {
     "data": {
      "text/plain": [
       "array(['Automatic', 'Manual', '-'], dtype=object)"
      ]
     },
     "execution_count": 49,
     "metadata": {},
     "output_type": "execute_result"
    }
   ],
   "source": [
    "df.Transmission.unique()"
   ]
  },
  {
   "cell_type": "code",
   "execution_count": 50,
   "id": "900c0125",
   "metadata": {},
   "outputs": [
    {
     "data": {
      "image/png": "[encoded data removed]",
      "text/plain": [
       "<Figure size 640x480 with 1 Axes>"
      ]
     },
     "metadata": {},
     "output_type": "display_data"
    }
   ],
   "source": [
    "transmission_counts = df['Transmission'].value_counts()\n",
    "plt.pie(transmission_counts, labels=transmission_counts.index, autopct='%1.1f%%', startangle=90)\n",
    "plt.legend(title=\"Transmission Types\", loc=\"upper left\", bbox_to_anchor=(1, 0.5))\n",
    "plt.show()"
   ]
  },
  {
   "cell_type": "code",
   "execution_count": 51,
   "id": "755cb73a",
   "metadata": {},
   "outputs": [
    {
     "data": {
      "image/png": "[encoded data removed]",
      "text/plain": [
       "<Figure size 640x480 with 1 Axes>"
      ]
     },
     "metadata": {},
     "output_type": "display_data"
    }
   ],
   "source": [
    "UsedOrNew_counts = df['UsedOrNew'].value_counts()\n",
    "plt.pie(UsedOrNew_counts, labels=UsedOrNew_counts.index, autopct='%1.1f%%')\n",
    "plt.legend(title=\"UsedOrNew\", loc=\"upper right\")\n",
    "plt.show()"
   ]
  },
  {
   "cell_type": "code",
   "execution_count": 52,
   "id": "b2e42538",
   "metadata": {},
   "outputs": [
    {
     "data": {
      "text/html": [
       "<div>\n",
       "<style scoped>\n",
       "    .dataframe tbody tr th:only-of-type {\n",
       "        vertical-align: middle;\n",
       "    }\n",
       "\n",
       "    .dataframe tbody tr th {\n",
       "        vertical-align: top;\n",
       "    }\n",
       "\n",
       "    .dataframe thead th {\n",
       "        text-align: right;\n",
       "    }\n",
       "</style>\n",
       "<table border=\"1\" class=\"dataframe\">\n",
       "  <thead>\n",
       "    <tr style=\"text-align: right;\">\n",
       "      <th></th>\n",
       "      <th>Brand</th>\n",
       "      <th>Year</th>\n",
       "      <th>Model</th>\n",
       "      <th>Car/Suv</th>\n",
       "      <th>Title</th>\n",
       "      <th>UsedOrNew</th>\n",
       "      <th>Transmission</th>\n",
       "      <th>Engine</th>\n",
       "      <th>DriveType</th>\n",
       "      <th>FuelType</th>\n",
       "      <th>FuelConsumption</th>\n",
       "      <th>Kilometres</th>\n",
       "      <th>ColourExtInt</th>\n",
       "      <th>Location</th>\n",
       "      <th>CylindersinEngine</th>\n",
       "      <th>BodyType</th>\n",
       "      <th>Doors</th>\n",
       "      <th>Seats</th>\n",
       "      <th>Price</th>\n",
       "    </tr>\n",
       "  </thead>\n",
       "  <tbody>\n",
       "    <tr>\n",
       "      <th>0</th>\n",
       "      <td>Ssangyong</td>\n",
       "      <td>2022.0</td>\n",
       "      <td>Rexton</td>\n",
       "      <td>Sutherland Isuzu Ute</td>\n",
       "      <td>2022 Ssangyong Rexton Ultimate (awd)</td>\n",
       "      <td>DEMO</td>\n",
       "      <td>Automatic</td>\n",
       "      <td>4 cyl, 2.2 L</td>\n",
       "      <td>AWD</td>\n",
       "      <td>Diesel</td>\n",
       "      <td>8.7 L / 100 km</td>\n",
       "      <td>5595</td>\n",
       "      <td>White / Black</td>\n",
       "      <td>Caringbah, NSW</td>\n",
       "      <td>4</td>\n",
       "      <td>SUV</td>\n",
       "      <td>4</td>\n",
       "      <td>7</td>\n",
       "      <td>51990</td>\n",
       "    </tr>\n",
       "    <tr>\n",
       "      <th>1</th>\n",
       "      <td>MG</td>\n",
       "      <td>2022.0</td>\n",
       "      <td>MG3</td>\n",
       "      <td>Hatchback</td>\n",
       "      <td>2022 MG MG3 Auto Excite (with Navigation)</td>\n",
       "      <td>USED</td>\n",
       "      <td>Automatic</td>\n",
       "      <td>4 cyl, 1.5 L</td>\n",
       "      <td>Front</td>\n",
       "      <td>Premium</td>\n",
       "      <td>6.7 L / 100 km</td>\n",
       "      <td>16</td>\n",
       "      <td>Black / Black</td>\n",
       "      <td>Brookvale, NSW</td>\n",
       "      <td>4</td>\n",
       "      <td>Hatchback</td>\n",
       "      <td>5</td>\n",
       "      <td>5</td>\n",
       "      <td>19990</td>\n",
       "    </tr>\n",
       "    <tr>\n",
       "      <th>2</th>\n",
       "      <td>BMW</td>\n",
       "      <td>2022.0</td>\n",
       "      <td>430I</td>\n",
       "      <td>Coupe</td>\n",
       "      <td>2022 BMW 430I M Sport</td>\n",
       "      <td>USED</td>\n",
       "      <td>Automatic</td>\n",
       "      <td>4 cyl, 2 L</td>\n",
       "      <td>Rear</td>\n",
       "      <td>Premium</td>\n",
       "      <td>6.6 L / 100 km</td>\n",
       "      <td>8472</td>\n",
       "      <td>Grey / White</td>\n",
       "      <td>Sylvania, NSW</td>\n",
       "      <td>4</td>\n",
       "      <td>Coupe</td>\n",
       "      <td>2</td>\n",
       "      <td>4</td>\n",
       "      <td>108988</td>\n",
       "    </tr>\n",
       "    <tr>\n",
       "      <th>3</th>\n",
       "      <td>Mercedes-Benz</td>\n",
       "      <td>2011.0</td>\n",
       "      <td>E500</td>\n",
       "      <td>Coupe</td>\n",
       "      <td>2011 Mercedes-Benz E500 Elegance</td>\n",
       "      <td>USED</td>\n",
       "      <td>Automatic</td>\n",
       "      <td>8 cyl, 5.5 L</td>\n",
       "      <td>Rear</td>\n",
       "      <td>Premium</td>\n",
       "      <td>11 L / 100 km</td>\n",
       "      <td>136517</td>\n",
       "      <td>White / Brown</td>\n",
       "      <td>Mount Druitt, NSW</td>\n",
       "      <td>8</td>\n",
       "      <td>Coupe</td>\n",
       "      <td>2</td>\n",
       "      <td>4</td>\n",
       "      <td>32990</td>\n",
       "    </tr>\n",
       "    <tr>\n",
       "      <th>4</th>\n",
       "      <td>Renault</td>\n",
       "      <td>2022.0</td>\n",
       "      <td>Arkana</td>\n",
       "      <td>SUV</td>\n",
       "      <td>2022 Renault Arkana Intens</td>\n",
       "      <td>USED</td>\n",
       "      <td>Automatic</td>\n",
       "      <td>4 cyl, 1.3 L</td>\n",
       "      <td>Front</td>\n",
       "      <td>Unleaded</td>\n",
       "      <td>6 L / 100 km</td>\n",
       "      <td>1035</td>\n",
       "      <td>Grey / Black</td>\n",
       "      <td>Castle Hill, NSW</td>\n",
       "      <td>4</td>\n",
       "      <td>SUV</td>\n",
       "      <td>4</td>\n",
       "      <td>5</td>\n",
       "      <td>34990</td>\n",
       "    </tr>\n",
       "  </tbody>\n",
       "</table>\n",
       "</div>"
      ],
      "text/plain": [
       "           Brand    Year   Model               Car/Suv  \\\n",
       "0      Ssangyong  2022.0  Rexton  Sutherland Isuzu Ute   \n",
       "1             MG  2022.0     MG3             Hatchback   \n",
       "2            BMW  2022.0    430I                 Coupe   \n",
       "3  Mercedes-Benz  2011.0    E500                 Coupe   \n",
       "4        Renault  2022.0  Arkana                   SUV   \n",
       "\n",
       "                                       Title UsedOrNew Transmission  \\\n",
       "0       2022 Ssangyong Rexton Ultimate (awd)      DEMO    Automatic   \n",
       "1  2022 MG MG3 Auto Excite (with Navigation)      USED    Automatic   \n",
       "2                      2022 BMW 430I M Sport      USED    Automatic   \n",
       "3           2011 Mercedes-Benz E500 Elegance      USED    Automatic   \n",
       "4                 2022 Renault Arkana Intens      USED    Automatic   \n",
       "\n",
       "         Engine DriveType  FuelType FuelConsumption  Kilometres  \\\n",
       "0  4 cyl, 2.2 L       AWD    Diesel  8.7 L / 100 km        5595   \n",
       "1  4 cyl, 1.5 L     Front   Premium  6.7 L / 100 km          16   \n",
       "2    4 cyl, 2 L      Rear   Premium  6.6 L / 100 km        8472   \n",
       "3  8 cyl, 5.5 L      Rear   Premium   11 L / 100 km      136517   \n",
       "4  4 cyl, 1.3 L     Front  Unleaded    6 L / 100 km        1035   \n",
       "\n",
       "    ColourExtInt           Location  CylindersinEngine   BodyType  Doors  \\\n",
       "0  White / Black     Caringbah, NSW                  4        SUV      4   \n",
       "1  Black / Black     Brookvale, NSW                  4  Hatchback      5   \n",
       "2   Grey / White      Sylvania, NSW                  4      Coupe      2   \n",
       "3  White / Brown  Mount Druitt, NSW                  8      Coupe      2   \n",
       "4   Grey / Black   Castle Hill, NSW                  4        SUV      4   \n",
       "\n",
       "   Seats   Price  \n",
       "0      7   51990  \n",
       "1      5   19990  \n",
       "2      4  108988  \n",
       "3      4   32990  \n",
       "4      5   34990  "
      ]
     },
     "execution_count": 52,
     "metadata": {},
     "output_type": "execute_result"
    }
   ],
   "source": [
    "df.head()"
   ]
  },
  {
   "cell_type": "code",
   "execution_count": 53,
   "id": "59696745",
   "metadata": {
    "scrolled": true
   },
   "outputs": [],
   "source": [
    "col_to_drop = ['ColourExtInt', 'Location', 'BodyType','Title']\n",
    "df = df.drop(columns=col_to_drop, axis =1)"
   ]
  },
  {
   "cell_type": "code",
   "execution_count": 54,
   "id": "59c0190a",
   "metadata": {},
   "outputs": [
    {
     "data": {
      "text/plain": [
       "Index(['Brand', 'Year', 'Model', 'Car/Suv', 'UsedOrNew', 'Transmission',\n",
       "       'Engine', 'DriveType', 'FuelType', 'FuelConsumption', 'Kilometres',\n",
       "       'CylindersinEngine', 'Doors', 'Seats', 'Price'],\n",
       "      dtype='object')"
      ]
     },
     "execution_count": 54,
     "metadata": {},
     "output_type": "execute_result"
    }
   ],
   "source": [
    "df.columns"
   ]
  },
  {
   "cell_type": "code",
   "execution_count": 55,
   "id": "e1f776b4",
   "metadata": {},
   "outputs": [
    {
     "data": {
      "text/html": [
       "<div>\n",
       "<style scoped>\n",
       "    .dataframe tbody tr th:only-of-type {\n",
       "        vertical-align: middle;\n",
       "    }\n",
       "\n",
       "    .dataframe tbody tr th {\n",
       "        vertical-align: top;\n",
       "    }\n",
       "\n",
       "    .dataframe thead th {\n",
       "        text-align: right;\n",
       "    }\n",
       "</style>\n",
       "<table border=\"1\" class=\"dataframe\">\n",
       "  <thead>\n",
       "    <tr style=\"text-align: right;\">\n",
       "      <th></th>\n",
       "      <th>Year</th>\n",
       "      <th>Kilometres</th>\n",
       "      <th>CylindersinEngine</th>\n",
       "      <th>Doors</th>\n",
       "      <th>Seats</th>\n",
       "      <th>Price</th>\n",
       "      <th>Brand_Abarth</th>\n",
       "      <th>Brand_Alfa</th>\n",
       "      <th>Brand_Aston</th>\n",
       "      <th>Brand_Audi</th>\n",
       "      <th>...</th>\n",
       "      <th>FuelConsumption_9 L / 100 km</th>\n",
       "      <th>FuelConsumption_9.1 L / 100 km</th>\n",
       "      <th>FuelConsumption_9.2 L / 100 km</th>\n",
       "      <th>FuelConsumption_9.3 L / 100 km</th>\n",
       "      <th>FuelConsumption_9.4 L / 100 km</th>\n",
       "      <th>FuelConsumption_9.5 L / 100 km</th>\n",
       "      <th>FuelConsumption_9.6 L / 100 km</th>\n",
       "      <th>FuelConsumption_9.7 L / 100 km</th>\n",
       "      <th>FuelConsumption_9.8 L / 100 km</th>\n",
       "      <th>FuelConsumption_9.9 L / 100 km</th>\n",
       "    </tr>\n",
       "  </thead>\n",
       "  <tbody>\n",
       "    <tr>\n",
       "      <th>0</th>\n",
       "      <td>2022.0</td>\n",
       "      <td>5595</td>\n",
       "      <td>4</td>\n",
       "      <td>4</td>\n",
       "      <td>7</td>\n",
       "      <td>51990</td>\n",
       "      <td>0</td>\n",
       "      <td>0</td>\n",
       "      <td>0</td>\n",
       "      <td>0</td>\n",
       "      <td>...</td>\n",
       "      <td>0</td>\n",
       "      <td>0</td>\n",
       "      <td>0</td>\n",
       "      <td>0</td>\n",
       "      <td>0</td>\n",
       "      <td>0</td>\n",
       "      <td>0</td>\n",
       "      <td>0</td>\n",
       "      <td>0</td>\n",
       "      <td>0</td>\n",
       "    </tr>\n",
       "    <tr>\n",
       "      <th>1</th>\n",
       "      <td>2022.0</td>\n",
       "      <td>16</td>\n",
       "      <td>4</td>\n",
       "      <td>5</td>\n",
       "      <td>5</td>\n",
       "      <td>19990</td>\n",
       "      <td>0</td>\n",
       "      <td>0</td>\n",
       "      <td>0</td>\n",
       "      <td>0</td>\n",
       "      <td>...</td>\n",
       "      <td>0</td>\n",
       "      <td>0</td>\n",
       "      <td>0</td>\n",
       "      <td>0</td>\n",
       "      <td>0</td>\n",
       "      <td>0</td>\n",
       "      <td>0</td>\n",
       "      <td>0</td>\n",
       "      <td>0</td>\n",
       "      <td>0</td>\n",
       "    </tr>\n",
       "    <tr>\n",
       "      <th>2</th>\n",
       "      <td>2022.0</td>\n",
       "      <td>8472</td>\n",
       "      <td>4</td>\n",
       "      <td>2</td>\n",
       "      <td>4</td>\n",
       "      <td>108988</td>\n",
       "      <td>0</td>\n",
       "      <td>0</td>\n",
       "      <td>0</td>\n",
       "      <td>0</td>\n",
       "      <td>...</td>\n",
       "      <td>0</td>\n",
       "      <td>0</td>\n",
       "      <td>0</td>\n",
       "      <td>0</td>\n",
       "      <td>0</td>\n",
       "      <td>0</td>\n",
       "      <td>0</td>\n",
       "      <td>0</td>\n",
       "      <td>0</td>\n",
       "      <td>0</td>\n",
       "    </tr>\n",
       "    <tr>\n",
       "      <th>3</th>\n",
       "      <td>2011.0</td>\n",
       "      <td>136517</td>\n",
       "      <td>8</td>\n",
       "      <td>2</td>\n",
       "      <td>4</td>\n",
       "      <td>32990</td>\n",
       "      <td>0</td>\n",
       "      <td>0</td>\n",
       "      <td>0</td>\n",
       "      <td>0</td>\n",
       "      <td>...</td>\n",
       "      <td>0</td>\n",
       "      <td>0</td>\n",
       "      <td>0</td>\n",
       "      <td>0</td>\n",
       "      <td>0</td>\n",
       "      <td>0</td>\n",
       "      <td>0</td>\n",
       "      <td>0</td>\n",
       "      <td>0</td>\n",
       "      <td>0</td>\n",
       "    </tr>\n",
       "    <tr>\n",
       "      <th>4</th>\n",
       "      <td>2022.0</td>\n",
       "      <td>1035</td>\n",
       "      <td>4</td>\n",
       "      <td>4</td>\n",
       "      <td>5</td>\n",
       "      <td>34990</td>\n",
       "      <td>0</td>\n",
       "      <td>0</td>\n",
       "      <td>0</td>\n",
       "      <td>0</td>\n",
       "      <td>...</td>\n",
       "      <td>0</td>\n",
       "      <td>0</td>\n",
       "      <td>0</td>\n",
       "      <td>0</td>\n",
       "      <td>0</td>\n",
       "      <td>0</td>\n",
       "      <td>0</td>\n",
       "      <td>0</td>\n",
       "      <td>0</td>\n",
       "      <td>0</td>\n",
       "    </tr>\n",
       "    <tr>\n",
       "      <th>...</th>\n",
       "      <td>...</td>\n",
       "      <td>...</td>\n",
       "      <td>...</td>\n",
       "      <td>...</td>\n",
       "      <td>...</td>\n",
       "      <td>...</td>\n",
       "      <td>...</td>\n",
       "      <td>...</td>\n",
       "      <td>...</td>\n",
       "      <td>...</td>\n",
       "      <td>...</td>\n",
       "      <td>...</td>\n",
       "      <td>...</td>\n",
       "      <td>...</td>\n",
       "      <td>...</td>\n",
       "      <td>...</td>\n",
       "      <td>...</td>\n",
       "      <td>...</td>\n",
       "      <td>...</td>\n",
       "      <td>...</td>\n",
       "      <td>...</td>\n",
       "    </tr>\n",
       "    <tr>\n",
       "      <th>16728</th>\n",
       "      <td>2021.0</td>\n",
       "      <td>32977</td>\n",
       "      <td>4</td>\n",
       "      <td>4</td>\n",
       "      <td>5</td>\n",
       "      <td>36770</td>\n",
       "      <td>0</td>\n",
       "      <td>0</td>\n",
       "      <td>0</td>\n",
       "      <td>0</td>\n",
       "      <td>...</td>\n",
       "      <td>0</td>\n",
       "      <td>0</td>\n",
       "      <td>0</td>\n",
       "      <td>0</td>\n",
       "      <td>0</td>\n",
       "      <td>0</td>\n",
       "      <td>0</td>\n",
       "      <td>0</td>\n",
       "      <td>0</td>\n",
       "      <td>0</td>\n",
       "    </tr>\n",
       "    <tr>\n",
       "      <th>16729</th>\n",
       "      <td>2014.0</td>\n",
       "      <td>66000</td>\n",
       "      <td>0</td>\n",
       "      <td>7</td>\n",
       "      <td>4</td>\n",
       "      <td>29500</td>\n",
       "      <td>0</td>\n",
       "      <td>0</td>\n",
       "      <td>0</td>\n",
       "      <td>0</td>\n",
       "      <td>...</td>\n",
       "      <td>0</td>\n",
       "      <td>0</td>\n",
       "      <td>0</td>\n",
       "      <td>0</td>\n",
       "      <td>0</td>\n",
       "      <td>0</td>\n",
       "      <td>0</td>\n",
       "      <td>0</td>\n",
       "      <td>0</td>\n",
       "      <td>0</td>\n",
       "    </tr>\n",
       "    <tr>\n",
       "      <th>16731</th>\n",
       "      <td>2022.0</td>\n",
       "      <td>5165</td>\n",
       "      <td>4</td>\n",
       "      <td>4</td>\n",
       "      <td>5</td>\n",
       "      <td>35280</td>\n",
       "      <td>0</td>\n",
       "      <td>0</td>\n",
       "      <td>0</td>\n",
       "      <td>0</td>\n",
       "      <td>...</td>\n",
       "      <td>0</td>\n",
       "      <td>0</td>\n",
       "      <td>0</td>\n",
       "      <td>0</td>\n",
       "      <td>0</td>\n",
       "      <td>0</td>\n",
       "      <td>0</td>\n",
       "      <td>0</td>\n",
       "      <td>0</td>\n",
       "      <td>0</td>\n",
       "    </tr>\n",
       "    <tr>\n",
       "      <th>16732</th>\n",
       "      <td>2016.0</td>\n",
       "      <td>85525</td>\n",
       "      <td>4</td>\n",
       "      <td>4</td>\n",
       "      <td>5</td>\n",
       "      <td>41888</td>\n",
       "      <td>0</td>\n",
       "      <td>0</td>\n",
       "      <td>0</td>\n",
       "      <td>0</td>\n",
       "      <td>...</td>\n",
       "      <td>0</td>\n",
       "      <td>0</td>\n",
       "      <td>0</td>\n",
       "      <td>0</td>\n",
       "      <td>0</td>\n",
       "      <td>0</td>\n",
       "      <td>0</td>\n",
       "      <td>0</td>\n",
       "      <td>0</td>\n",
       "      <td>0</td>\n",
       "    </tr>\n",
       "    <tr>\n",
       "      <th>16733</th>\n",
       "      <td>2021.0</td>\n",
       "      <td>31852</td>\n",
       "      <td>4</td>\n",
       "      <td>4</td>\n",
       "      <td>5</td>\n",
       "      <td>65888</td>\n",
       "      <td>0</td>\n",
       "      <td>0</td>\n",
       "      <td>0</td>\n",
       "      <td>0</td>\n",
       "      <td>...</td>\n",
       "      <td>0</td>\n",
       "      <td>0</td>\n",
       "      <td>0</td>\n",
       "      <td>0</td>\n",
       "      <td>0</td>\n",
       "      <td>0</td>\n",
       "      <td>0</td>\n",
       "      <td>0</td>\n",
       "      <td>0</td>\n",
       "      <td>0</td>\n",
       "    </tr>\n",
       "  </tbody>\n",
       "</table>\n",
       "<p>15953 rows × 1674 columns</p>\n",
       "</div>"
      ],
      "text/plain": [
       "         Year  Kilometres  CylindersinEngine  Doors  Seats   Price  \\\n",
       "0      2022.0        5595                  4      4      7   51990   \n",
       "1      2022.0          16                  4      5      5   19990   \n",
       "2      2022.0        8472                  4      2      4  108988   \n",
       "3      2011.0      136517                  8      2      4   32990   \n",
       "4      2022.0        1035                  4      4      5   34990   \n",
       "...       ...         ...                ...    ...    ...     ...   \n",
       "16728  2021.0       32977                  4      4      5   36770   \n",
       "16729  2014.0       66000                  0      7      4   29500   \n",
       "16731  2022.0        5165                  4      4      5   35280   \n",
       "16732  2016.0       85525                  4      4      5   41888   \n",
       "16733  2021.0       31852                  4      4      5   65888   \n",
       "\n",
       "       Brand_Abarth  Brand_Alfa  Brand_Aston  Brand_Audi  ...  \\\n",
       "0                 0           0            0           0  ...   \n",
       "1                 0           0            0           0  ...   \n",
       "2                 0           0            0           0  ...   \n",
       "3                 0           0            0           0  ...   \n",
       "4                 0           0            0           0  ...   \n",
       "...             ...         ...          ...         ...  ...   \n",
       "16728             0           0            0           0  ...   \n",
       "16729             0           0            0           0  ...   \n",
       "16731             0           0            0           0  ...   \n",
       "16732             0           0            0           0  ...   \n",
       "16733             0           0            0           0  ...   \n",
       "\n",
       "       FuelConsumption_9 L / 100 km  FuelConsumption_9.1 L / 100 km  \\\n",
       "0                                 0                               0   \n",
       "1                                 0                               0   \n",
       "2                                 0                               0   \n",
       "3                                 0                               0   \n",
       "4                                 0                               0   \n",
       "...                             ...                             ...   \n",
       "16728                             0                               0   \n",
       "16729                             0                               0   \n",
       "16731                             0                               0   \n",
       "16732                             0                               0   \n",
       "16733                             0                               0   \n",
       "\n",
       "       FuelConsumption_9.2 L / 100 km  FuelConsumption_9.3 L / 100 km  \\\n",
       "0                                   0                               0   \n",
       "1                                   0                               0   \n",
       "2                                   0                               0   \n",
       "3                                   0                               0   \n",
       "4                                   0                               0   \n",
       "...                               ...                             ...   \n",
       "16728                               0                               0   \n",
       "16729                               0                               0   \n",
       "16731                               0                               0   \n",
       "16732                               0                               0   \n",
       "16733                               0                               0   \n",
       "\n",
       "       FuelConsumption_9.4 L / 100 km  FuelConsumption_9.5 L / 100 km  \\\n",
       "0                                   0                               0   \n",
       "1                                   0                               0   \n",
       "2                                   0                               0   \n",
       "3                                   0                               0   \n",
       "4                                   0                               0   \n",
       "...                               ...                             ...   \n",
       "16728                               0                               0   \n",
       "16729                               0                               0   \n",
       "16731                               0                               0   \n",
       "16732                               0                               0   \n",
       "16733                               0                               0   \n",
       "\n",
       "       FuelConsumption_9.6 L / 100 km  FuelConsumption_9.7 L / 100 km  \\\n",
       "0                                   0                               0   \n",
       "1                                   0                               0   \n",
       "2                                   0                               0   \n",
       "3                                   0                               0   \n",
       "4                                   0                               0   \n",
       "...                               ...                             ...   \n",
       "16728                               0                               0   \n",
       "16729                               0                               0   \n",
       "16731                               0                               0   \n",
       "16732                               0                               0   \n",
       "16733                               0                               0   \n",
       "\n",
       "       FuelConsumption_9.8 L / 100 km  FuelConsumption_9.9 L / 100 km  \n",
       "0                                   0                               0  \n",
       "1                                   0                               0  \n",
       "2                                   0                               0  \n",
       "3                                   0                               0  \n",
       "4                                   0                               0  \n",
       "...                               ...                             ...  \n",
       "16728                               0                               0  \n",
       "16729                               0                               0  \n",
       "16731                               0                               0  \n",
       "16732                               0                               0  \n",
       "16733                               0                               0  \n",
       "\n",
       "[15953 rows x 1674 columns]"
      ]
     },
     "execution_count": 55,
     "metadata": {},
     "output_type": "execute_result"
    }
   ],
   "source": [
    "dummies = pd.get_dummies(df)\n",
    "dummies"
   ]
  },
  {
   "cell_type": "code",
   "execution_count": 56,
   "id": "87010600",
   "metadata": {
    "scrolled": true
   },
   "outputs": [
    {
     "data": {
      "text/plain": [
       "Index(['Brand', 'Year', 'Model', 'Car/Suv', 'UsedOrNew', 'Transmission',\n",
       "       'Engine', 'DriveType', 'FuelType', 'FuelConsumption', 'Kilometres',\n",
       "       'CylindersinEngine', 'Doors', 'Seats', 'Price'],\n",
       "      dtype='object')"
      ]
     },
     "execution_count": 56,
     "metadata": {},
     "output_type": "execute_result"
    }
   ],
   "source": [
    "df.columns"
   ]
  },
  {
   "cell_type": "code",
   "execution_count": 57,
   "id": "f1253136",
   "metadata": {},
   "outputs": [],
   "source": [
    "x = dummies.drop('Price', axis=1)\n",
    "y = dummies.Price"
   ]
  },
  {
   "cell_type": "code",
   "execution_count": 58,
   "id": "2940d496",
   "metadata": {},
   "outputs": [],
   "source": [
    "x_train, x_test, y_train, y_test = train_test_split(x,y, train_size = .8, random_state=10)"
   ]
  },
  {
   "cell_type": "markdown",
   "id": "85b82028",
   "metadata": {},
   "source": [
    "## Linear Regression Model"
   ]
  },
  {
   "cell_type": "code",
   "execution_count": 59,
   "id": "a80db2f8",
   "metadata": {},
   "outputs": [
    {
     "data": {
      "text/html": [
       "<style>#sk-container-id-1 {color: black;background-color: white;}#sk-container-id-1 pre{padding: 0;}#sk-container-id-1 div.sk-toggleable {background-color: white;}#sk-container-id-1 label.sk-toggleable__label {cursor: pointer;display: block;width: 100%;margin-bottom: 0;padding: 0.3em;box-sizing: border-box;text-align: center;}#sk-container-id-1 label.sk-toggleable__label-arrow:before {content: \"▸\";float: left;margin-right: 0.25em;color: #696969;}#sk-container-id-1 label.sk-toggleable__label-arrow:hover:before {color: black;}#sk-container-id-1 div.sk-estimator:hover label.sk-toggleable__label-arrow:before {color: black;}#sk-container-id-1 div.sk-toggleable__content {max-height: 0;max-width: 0;overflow: hidden;text-align: left;background-color: #f0f8ff;}#sk-container-id-1 div.sk-toggleable__content pre {margin: 0.2em;color: black;border-radius: 0.25em;background-color: #f0f8ff;}#sk-container-id-1 input.sk-toggleable__control:checked~div.sk-toggleable__content {max-height: 200px;max-width: 100%;overflow: auto;}#sk-container-id-1 input.sk-toggleable__control:checked~label.sk-toggleable__label-arrow:before {content: \"▾\";}#sk-container-id-1 div.sk-estimator input.sk-toggleable__control:checked~label.sk-toggleable__label {background-color: #d4ebff;}#sk-container-id-1 div.sk-label input.sk-toggleable__control:checked~label.sk-toggleable__label {background-color: #d4ebff;}#sk-container-id-1 input.sk-hidden--visually {border: 0;clip: rect(1px 1px 1px 1px);clip: rect(1px, 1px, 1px, 1px);height: 1px;margin: -1px;overflow: hidden;padding: 0;position: absolute;width: 1px;}#sk-container-id-1 div.sk-estimator {font-family: monospace;background-color: #f0f8ff;border: 1px dotted black;border-radius: 0.25em;box-sizing: border-box;margin-bottom: 0.5em;}#sk-container-id-1 div.sk-estimator:hover {background-color: #d4ebff;}#sk-container-id-1 div.sk-parallel-item::after {content: \"\";width: 100%;border-bottom: 1px solid gray;flex-grow: 1;}#sk-container-id-1 div.sk-label:hover label.sk-toggleable__label {background-color: #d4ebff;}#sk-container-id-1 div.sk-serial::before {content: \"\";position: absolute;border-left: 1px solid gray;box-sizing: border-box;top: 0;bottom: 0;left: 50%;z-index: 0;}#sk-container-id-1 div.sk-serial {display: flex;flex-direction: column;align-items: center;background-color: white;padding-right: 0.2em;padding-left: 0.2em;position: relative;}#sk-container-id-1 div.sk-item {position: relative;z-index: 1;}#sk-container-id-1 div.sk-parallel {display: flex;align-items: stretch;justify-content: center;background-color: white;position: relative;}#sk-container-id-1 div.sk-item::before, #sk-container-id-1 div.sk-parallel-item::before {content: \"\";position: absolute;border-left: 1px solid gray;box-sizing: border-box;top: 0;bottom: 0;left: 50%;z-index: -1;}#sk-container-id-1 div.sk-parallel-item {display: flex;flex-direction: column;z-index: 1;position: relative;background-color: white;}#sk-container-id-1 div.sk-parallel-item:first-child::after {align-self: flex-end;width: 50%;}#sk-container-id-1 div.sk-parallel-item:last-child::after {align-self: flex-start;width: 50%;}#sk-container-id-1 div.sk-parallel-item:only-child::after {width: 0;}#sk-container-id-1 div.sk-dashed-wrapped {border: 1px dashed gray;margin: 0 0.4em 0.5em 0.4em;box-sizing: border-box;padding-bottom: 0.4em;background-color: white;}#sk-container-id-1 div.sk-label label {font-family: monospace;font-weight: bold;display: inline-block;line-height: 1.2em;}#sk-container-id-1 div.sk-label-container {text-align: center;}#sk-container-id-1 div.sk-container {/* jupyter's `normalize.less` sets `[hidden] { display: none; }` but bootstrap.min.css set `[hidden] { display: none !important; }` so we also need the `!important` here to be able to override the default hidden behavior on the sphinx rendered scikit-learn.org. See: https://github.com/scikit-learn/scikit-learn/issues/21755 */display: inline-block !important;position: relative;}#sk-container-id-1 div.sk-text-repr-fallback {display: none;}</style><div id=\"sk-container-id-1\" class=\"sk-top-container\"><div class=\"sk-text-repr-fallback\"><pre>LinearRegression()</pre><b>In a Jupyter environment, please rerun this cell to show the HTML representation or trust the notebook. <br />On GitHub, the HTML representation is unable to render, please try loading this page with nbviewer.org.</b></div><div class=\"sk-container\" hidden><div class=\"sk-item\"><div class=\"sk-estimator sk-toggleable\"><input class=\"sk-toggleable__control sk-hidden--visually\" id=\"sk-estimator-id-1\" type=\"checkbox\" checked><label for=\"sk-estimator-id-1\" class=\"sk-toggleable__label sk-toggleable__label-arrow\">LinearRegression</label><div class=\"sk-toggleable__content\"><pre>LinearRegression()</pre></div></div></div></div></div>"
      ],
      "text/plain": [
       "LinearRegression()"
      ]
     },
     "execution_count": 59,
     "metadata": {},
     "output_type": "execute_result"
    }
   ],
   "source": [
    "model = LinearRegression().fit(x_train, y_train)\n",
    "model"
   ]
  },
  {
   "cell_type": "code",
   "execution_count": 60,
   "id": "0d93b50b",
   "metadata": {},
   "outputs": [
    {
     "data": {
      "text/plain": [
       "0.9210064294028689"
      ]
     },
     "execution_count": 60,
     "metadata": {},
     "output_type": "execute_result"
    }
   ],
   "source": [
    "model.score(x_train,y_train)"
   ]
  },
  {
   "cell_type": "code",
   "execution_count": 61,
   "id": "5ba32faf",
   "metadata": {},
   "outputs": [
    {
     "data": {
      "text/plain": [
       "0.6809869684401297"
      ]
     },
     "execution_count": 61,
     "metadata": {},
     "output_type": "execute_result"
    }
   ],
   "source": [
    "model.score(x_test,y_test)"
   ]
  },
  {
   "cell_type": "markdown",
   "id": "854da998",
   "metadata": {},
   "source": [
    "## Lasso"
   ]
  },
  {
   "cell_type": "code",
   "execution_count": 62,
   "id": "5992e9ab",
   "metadata": {},
   "outputs": [
    {
     "name": "stderr",
     "output_type": "stream",
     "text": [
      "C:\\ProgramData\\anaconda3\\Lib\\site-packages\\sklearn\\linear_model\\_coordinate_descent.py:631: ConvergenceWarning: Objective did not converge. You might want to increase the number of iterations, check the scale of the features or consider increasing regularisation. Duality gap: 6.023e+11, tolerance: 1.292e+09\n",
      "  model = cd_fast.enet_coordinate_descent(\n"
     ]
    },
    {
     "data": {
      "text/html": [
       "<style>#sk-container-id-2 {color: black;background-color: white;}#sk-container-id-2 pre{padding: 0;}#sk-container-id-2 div.sk-toggleable {background-color: white;}#sk-container-id-2 label.sk-toggleable__label {cursor: pointer;display: block;width: 100%;margin-bottom: 0;padding: 0.3em;box-sizing: border-box;text-align: center;}#sk-container-id-2 label.sk-toggleable__label-arrow:before {content: \"▸\";float: left;margin-right: 0.25em;color: #696969;}#sk-container-id-2 label.sk-toggleable__label-arrow:hover:before {color: black;}#sk-container-id-2 div.sk-estimator:hover label.sk-toggleable__label-arrow:before {color: black;}#sk-container-id-2 div.sk-toggleable__content {max-height: 0;max-width: 0;overflow: hidden;text-align: left;background-color: #f0f8ff;}#sk-container-id-2 div.sk-toggleable__content pre {margin: 0.2em;color: black;border-radius: 0.25em;background-color: #f0f8ff;}#sk-container-id-2 input.sk-toggleable__control:checked~div.sk-toggleable__content {max-height: 200px;max-width: 100%;overflow: auto;}#sk-container-id-2 input.sk-toggleable__control:checked~label.sk-toggleable__label-arrow:before {content: \"▾\";}#sk-container-id-2 div.sk-estimator input.sk-toggleable__control:checked~label.sk-toggleable__label {background-color: #d4ebff;}#sk-container-id-2 div.sk-label input.sk-toggleable__control:checked~label.sk-toggleable__label {background-color: #d4ebff;}#sk-container-id-2 input.sk-hidden--visually {border: 0;clip: rect(1px 1px 1px 1px);clip: rect(1px, 1px, 1px, 1px);height: 1px;margin: -1px;overflow: hidden;padding: 0;position: absolute;width: 1px;}#sk-container-id-2 div.sk-estimator {font-family: monospace;background-color: #f0f8ff;border: 1px dotted black;border-radius: 0.25em;box-sizing: border-box;margin-bottom: 0.5em;}#sk-container-id-2 div.sk-estimator:hover {background-color: #d4ebff;}#sk-container-id-2 div.sk-parallel-item::after {content: \"\";width: 100%;border-bottom: 1px solid gray;flex-grow: 1;}#sk-container-id-2 div.sk-label:hover label.sk-toggleable__label {background-color: #d4ebff;}#sk-container-id-2 div.sk-serial::before {content: \"\";position: absolute;border-left: 1px solid gray;box-sizing: border-box;top: 0;bottom: 0;left: 50%;z-index: 0;}#sk-container-id-2 div.sk-serial {display: flex;flex-direction: column;align-items: center;background-color: white;padding-right: 0.2em;padding-left: 0.2em;position: relative;}#sk-container-id-2 div.sk-item {position: relative;z-index: 1;}#sk-container-id-2 div.sk-parallel {display: flex;align-items: stretch;justify-content: center;background-color: white;position: relative;}#sk-container-id-2 div.sk-item::before, #sk-container-id-2 div.sk-parallel-item::before {content: \"\";position: absolute;border-left: 1px solid gray;box-sizing: border-box;top: 0;bottom: 0;left: 50%;z-index: -1;}#sk-container-id-2 div.sk-parallel-item {display: flex;flex-direction: column;z-index: 1;position: relative;background-color: white;}#sk-container-id-2 div.sk-parallel-item:first-child::after {align-self: flex-end;width: 50%;}#sk-container-id-2 div.sk-parallel-item:last-child::after {align-self: flex-start;width: 50%;}#sk-container-id-2 div.sk-parallel-item:only-child::after {width: 0;}#sk-container-id-2 div.sk-dashed-wrapped {border: 1px dashed gray;margin: 0 0.4em 0.5em 0.4em;box-sizing: border-box;padding-bottom: 0.4em;background-color: white;}#sk-container-id-2 div.sk-label label {font-family: monospace;font-weight: bold;display: inline-block;line-height: 1.2em;}#sk-container-id-2 div.sk-label-container {text-align: center;}#sk-container-id-2 div.sk-container {/* jupyter's `normalize.less` sets `[hidden] { display: none; }` but bootstrap.min.css set `[hidden] { display: none !important; }` so we also need the `!important` here to be able to override the default hidden behavior on the sphinx rendered scikit-learn.org. See: https://github.com/scikit-learn/scikit-learn/issues/21755 */display: inline-block !important;position: relative;}#sk-container-id-2 div.sk-text-repr-fallback {display: none;}</style><div id=\"sk-container-id-2\" class=\"sk-top-container\"><div class=\"sk-text-repr-fallback\"><pre>Lasso(alpha=0.4)</pre><b>In a Jupyter environment, please rerun this cell to show the HTML representation or trust the notebook. <br />On GitHub, the HTML representation is unable to render, please try loading this page with nbviewer.org.</b></div><div class=\"sk-container\" hidden><div class=\"sk-item\"><div class=\"sk-estimator sk-toggleable\"><input class=\"sk-toggleable__control sk-hidden--visually\" id=\"sk-estimator-id-2\" type=\"checkbox\" checked><label for=\"sk-estimator-id-2\" class=\"sk-toggleable__label sk-toggleable__label-arrow\">Lasso</label><div class=\"sk-toggleable__content\"><pre>Lasso(alpha=0.4)</pre></div></div></div></div></div>"
      ],
      "text/plain": [
       "Lasso(alpha=0.4)"
      ]
     },
     "execution_count": 62,
     "metadata": {},
     "output_type": "execute_result"
    }
   ],
   "source": [
    "las = Lasso(alpha=.4).fit(x_train, y_train)\n",
    "las"
   ]
  },
  {
   "cell_type": "code",
   "execution_count": 63,
   "id": "ce4237ad",
   "metadata": {},
   "outputs": [
    {
     "data": {
      "text/plain": [
       "0.919203086176023"
      ]
     },
     "execution_count": 63,
     "metadata": {},
     "output_type": "execute_result"
    }
   ],
   "source": [
    "las.score(x_train,y_train)"
   ]
  },
  {
   "cell_type": "code",
   "execution_count": 64,
   "id": "b906d4b1",
   "metadata": {},
   "outputs": [
    {
     "data": {
      "text/plain": [
       "0.7155388017049745"
      ]
     },
     "execution_count": 64,
     "metadata": {},
     "output_type": "execute_result"
    }
   ],
   "source": [
    "las.score(x_test,y_test)"
   ]
  },
  {
   "cell_type": "markdown",
   "id": "faea844f",
   "metadata": {},
   "source": [
    "## Ridge"
   ]
  },
  {
   "cell_type": "code",
   "execution_count": 65,
   "id": "c9152deb",
   "metadata": {},
   "outputs": [
    {
     "data": {
      "text/html": [
       "<style>#sk-container-id-3 {color: black;background-color: white;}#sk-container-id-3 pre{padding: 0;}#sk-container-id-3 div.sk-toggleable {background-color: white;}#sk-container-id-3 label.sk-toggleable__label {cursor: pointer;display: block;width: 100%;margin-bottom: 0;padding: 0.3em;box-sizing: border-box;text-align: center;}#sk-container-id-3 label.sk-toggleable__label-arrow:before {content: \"▸\";float: left;margin-right: 0.25em;color: #696969;}#sk-container-id-3 label.sk-toggleable__label-arrow:hover:before {color: black;}#sk-container-id-3 div.sk-estimator:hover label.sk-toggleable__label-arrow:before {color: black;}#sk-container-id-3 div.sk-toggleable__content {max-height: 0;max-width: 0;overflow: hidden;text-align: left;background-color: #f0f8ff;}#sk-container-id-3 div.sk-toggleable__content pre {margin: 0.2em;color: black;border-radius: 0.25em;background-color: #f0f8ff;}#sk-container-id-3 input.sk-toggleable__control:checked~div.sk-toggleable__content {max-height: 200px;max-width: 100%;overflow: auto;}#sk-container-id-3 input.sk-toggleable__control:checked~label.sk-toggleable__label-arrow:before {content: \"▾\";}#sk-container-id-3 div.sk-estimator input.sk-toggleable__control:checked~label.sk-toggleable__label {background-color: #d4ebff;}#sk-container-id-3 div.sk-label input.sk-toggleable__control:checked~label.sk-toggleable__label {background-color: #d4ebff;}#sk-container-id-3 input.sk-hidden--visually {border: 0;clip: rect(1px 1px 1px 1px);clip: rect(1px, 1px, 1px, 1px);height: 1px;margin: -1px;overflow: hidden;padding: 0;position: absolute;width: 1px;}#sk-container-id-3 div.sk-estimator {font-family: monospace;background-color: #f0f8ff;border: 1px dotted black;border-radius: 0.25em;box-sizing: border-box;margin-bottom: 0.5em;}#sk-container-id-3 div.sk-estimator:hover {background-color: #d4ebff;}#sk-container-id-3 div.sk-parallel-item::after {content: \"\";width: 100%;border-bottom: 1px solid gray;flex-grow: 1;}#sk-container-id-3 div.sk-label:hover label.sk-toggleable__label {background-color: #d4ebff;}#sk-container-id-3 div.sk-serial::before {content: \"\";position: absolute;border-left: 1px solid gray;box-sizing: border-box;top: 0;bottom: 0;left: 50%;z-index: 0;}#sk-container-id-3 div.sk-serial {display: flex;flex-direction: column;align-items: center;background-color: white;padding-right: 0.2em;padding-left: 0.2em;position: relative;}#sk-container-id-3 div.sk-item {position: relative;z-index: 1;}#sk-container-id-3 div.sk-parallel {display: flex;align-items: stretch;justify-content: center;background-color: white;position: relative;}#sk-container-id-3 div.sk-item::before, #sk-container-id-3 div.sk-parallel-item::before {content: \"\";position: absolute;border-left: 1px solid gray;box-sizing: border-box;top: 0;bottom: 0;left: 50%;z-index: -1;}#sk-container-id-3 div.sk-parallel-item {display: flex;flex-direction: column;z-index: 1;position: relative;background-color: white;}#sk-container-id-3 div.sk-parallel-item:first-child::after {align-self: flex-end;width: 50%;}#sk-container-id-3 div.sk-parallel-item:last-child::after {align-self: flex-start;width: 50%;}#sk-container-id-3 div.sk-parallel-item:only-child::after {width: 0;}#sk-container-id-3 div.sk-dashed-wrapped {border: 1px dashed gray;margin: 0 0.4em 0.5em 0.4em;box-sizing: border-box;padding-bottom: 0.4em;background-color: white;}#sk-container-id-3 div.sk-label label {font-family: monospace;font-weight: bold;display: inline-block;line-height: 1.2em;}#sk-container-id-3 div.sk-label-container {text-align: center;}#sk-container-id-3 div.sk-container {/* jupyter's `normalize.less` sets `[hidden] { display: none; }` but bootstrap.min.css set `[hidden] { display: none !important; }` so we also need the `!important` here to be able to override the default hidden behavior on the sphinx rendered scikit-learn.org. See: https://github.com/scikit-learn/scikit-learn/issues/21755 */display: inline-block !important;position: relative;}#sk-container-id-3 div.sk-text-repr-fallback {display: none;}</style><div id=\"sk-container-id-3\" class=\"sk-top-container\"><div class=\"sk-text-repr-fallback\"><pre>Ridge(alpha=1)</pre><b>In a Jupyter environment, please rerun this cell to show the HTML representation or trust the notebook. <br />On GitHub, the HTML representation is unable to render, please try loading this page with nbviewer.org.</b></div><div class=\"sk-container\" hidden><div class=\"sk-item\"><div class=\"sk-estimator sk-toggleable\"><input class=\"sk-toggleable__control sk-hidden--visually\" id=\"sk-estimator-id-3\" type=\"checkbox\" checked><label for=\"sk-estimator-id-3\" class=\"sk-toggleable__label sk-toggleable__label-arrow\">Ridge</label><div class=\"sk-toggleable__content\"><pre>Ridge(alpha=1)</pre></div></div></div></div></div>"
      ],
      "text/plain": [
       "Ridge(alpha=1)"
      ]
     },
     "execution_count": 65,
     "metadata": {},
     "output_type": "execute_result"
    }
   ],
   "source": [
    "Ri = Ridge(alpha=1).fit(x_train, y_train)\n",
    "Ri"
   ]
  },
  {
   "cell_type": "code",
   "execution_count": 66,
   "id": "f0169670",
   "metadata": {},
   "outputs": [
    {
     "data": {
      "text/plain": [
       "0.8816707407662205"
      ]
     },
     "execution_count": 66,
     "metadata": {},
     "output_type": "execute_result"
    }
   ],
   "source": [
    "Ri.score(x_train,y_train)"
   ]
  },
  {
   "cell_type": "code",
   "execution_count": 67,
   "id": "8dca0074",
   "metadata": {},
   "outputs": [
    {
     "data": {
      "text/plain": [
       "0.7306730023329064"
      ]
     },
     "execution_count": 67,
     "metadata": {},
     "output_type": "execute_result"
    }
   ],
   "source": [
    "Ri.score(x_test,y_test)"
   ]
  },
  {
   "cell_type": "code",
   "execution_count": 68,
   "id": "580d6bf3",
   "metadata": {
    "scrolled": true
   },
   "outputs": [
    {
     "data": {
      "text/plain": [
       "array([12776.89760677, 18050.38316843, 41541.47525097, ...,\n",
       "       22165.67116556, 24834.89855161, 64466.80957342])"
      ]
     },
     "execution_count": 68,
     "metadata": {},
     "output_type": "execute_result"
    }
   ],
   "source": [
    "y_pred = model.predict(x_test)\n",
    "y_pred"
   ]
  },
  {
   "cell_type": "code",
   "execution_count": 69,
   "id": "6f66057f",
   "metadata": {},
   "outputs": [
    {
     "name": "stdout",
     "output_type": "stream",
     "text": [
      "the mse is : 359231022.64874494\n",
      "the rmse is : 18953.390795547508\n",
      "the mae is : 7442.64860423444\n",
      "the r2 is : 0.6809869684401297\n"
     ]
    }
   ],
   "source": [
    "mse = mean_squared_error(y_test, y_pred)\n",
    "rmse = mean_squared_error(y_test, y_pred, squared= False)\n",
    "r2 = r2_score(y_test, y_pred)\n",
    "mae = mean_absolute_error(y_test, y_pred)\n",
    "\n",
    "print(f'the mse is : {mse}')\n",
    "print(f'the rmse is : {rmse}')\n",
    "print(f'the mae is : {mae}')\n",
    "print(f'the r2 is : {r2}')"
   ]
  }
 ],
 "metadata": {
  "kernelspec": {
   "display_name": "Python 3 (ipykernel)",
   "language": "python",
   "name": "python3"
  },
  "language_info": {
   "codemirror_mode": {
    "name": "ipython",
    "version": 3
   },
   "file_extension": ".py",
   "mimetype": "text/x-python",
   "name": "python",
   "nbconvert_exporter": "python",
   "pygments_lexer": "ipython3",
   "version": "3.11.3"
  }
 },
 "nbformat": 4,
 "nbformat_minor": 5
}
